{
 "cells": [
  {
   "cell_type": "code",
   "execution_count": 1,
   "metadata": {},
   "outputs": [],
   "source": [
    "import numpy as np\n",
    "import pandas as pd\n",
    "from sklearn import preprocessing\n",
    "from sklearn.ensemble import RandomForestClassifier\n",
    "from sklearn.neural_network import MLPClassifier\n",
    "from sklearn.ensemble import GradientBoostingClassifier\n",
    "import _pickle as pkl\n",
    "from sklearn.metrics import confusion_matrix\n",
    "import matplotlib.pyplot as plt\n",
    "from sklearn import metrics,preprocessing\n",
    "from sklearn.metrics import confusion_matrix  \n",
    "from sklearn.svm import SVC"
   ]
  },
  {
   "cell_type": "markdown",
   "metadata": {},
   "source": [
    "### Preprocessing the dataset\n",
    "\n",
    "We need to normalize the data before trying to fit any models to this dataset. We only fit the normalizer on the training dataset and use the learned parameters on the validation and test sets.  We use the sklearn's preprocessing library to use the MinMax Normalizer on all the features"
   ]
  },
  {
   "cell_type": "code",
   "execution_count": 2,
   "metadata": {},
   "outputs": [],
   "source": [
    "def get_dataset(data_file , mode='train', scaler=None, balance_dataset=False):\n",
    "    \"\"\"\n",
    "    Parameters:\n",
    "        data_file : Path to .csv file that contains the data\n",
    "        mode : Defines if the dataset to load is train,val or test data - can take values 'train','val' or ,'test' \n",
    "        scaler : The scaler to use to normalize data, must be specified for 'val' and 'test' modes. A new scaler \n",
    "                 Object is returned when mode=='train' that is fit on the training data\n",
    "        balance_dataset : Boolean to specify if any imbalance in dataset should be handled.\n",
    "    \"\"\"\n",
    "    \n",
    "    if mode not in ['train','val','test']:\n",
    "        raise Exception(\"mode has to be one of 'train', 'val' or 'test'.Please correct the mode and retry \")\n",
    "    if mode!='train' and balance_dataset:\n",
    "        raise exception(\"Can only balance training dataset Not the validation and Test set\")\n",
    "        \n",
    "    # read data file into pandas dataframe\n",
    "    data = pd.read_csv(data_file)\n",
    "    # Last column is the labels column\n",
    "#     if mode== 'train' or mode =='val':\n",
    "    features = data.values[:,:-1]\n",
    "    labels = data.iloc[:,-1]\n",
    "#     else:\n",
    "#         features = data.values\n",
    "    \n",
    "    # If mode==train, fit the scaler and tranform the data,\n",
    "    # else , use a previously fit scaler to only tranform data\n",
    "    if mode == 'train':\n",
    "        if not scaler:\n",
    "            scaler = preprocessing.MinMaxScaler()\n",
    "        features = scaler.fit_transform(features)\n",
    "    else:\n",
    "        features = scaler.transform(features)\n",
    "    \n",
    "    # balance data\n",
    "    if mode == 'train' and balance_dataset:\n",
    "        positive_labels = labels[labels == 1]\n",
    "        negative_labels = labels[labels == 0]\n",
    "\n",
    "        positive_examples = features[positive_labels]\n",
    "        negative_examples = features[negative_labels]\n",
    "\n",
    "        # subsample from negative_examples\n",
    "        idxs = [i for i in range(len(negative_examples))]\n",
    "        np.random.shuffle(idxs)\n",
    "        idxs = idxs[:len(positive_examples)]\n",
    "\n",
    "        # Combine the data\n",
    "        negative_examples = negative_examples[idxs]\n",
    "        labels = np.concatenate(([1]*len(positive_examples), [0]*len(positive_examples)))\n",
    "        features = np.vstack((positive_examples,negative_examples))\n",
    "\n",
    "        # Shuffle the data\n",
    "        idxs = [i for i in range(len(features))]\n",
    "        np.random.shuffle(idxs)\n",
    "        features = features[idxs]\n",
    "        labels = labels[idxs]\n",
    "\n",
    "    if mode =='train':\n",
    "        return features , labels, scaler\n",
    "    else:\n",
    "        return features , labels\n",
    "#     else:\n",
    "#         return features\n",
    "    \n",
    "# Get train features, labels and fit scaler object\n",
    "train_features, train_labels, scaler = get_dataset(\"training_data.csv\",mode='train',balance_dataset=False)\n",
    "# Get validation data, make sure to pass the scaler object obtained from train dataset\n",
    "val_features, val_labels = get_dataset(\"validation_data.csv\",mode='val',scaler=scaler)\n",
    "test_features, test_labels = get_dataset(\"test_data.csv\",mode = 'test',scaler = scaler)"
   ]
  },
  {
   "cell_type": "markdown",
   "metadata": {},
   "source": [
    "### Combining Train and Validation datasets\n",
    "We combine the train and validation sets once we tune the hyperparamters on the validation set and retrain the entire model. This would help the model to learn better using the validation set while preventing overfitting\n",
    "\n",
    "**Do this only after initially training the model, i.e by executing the model cells below and then come back to this cell, to combine the data and then run the model cells again on the new set.**"
   ]
  },
  {
   "cell_type": "code",
   "execution_count": 11,
   "metadata": {},
   "outputs": [],
   "source": [
    "combine = True\n",
    "# Combine train and val data - do this after hyper parameter tuning on val set\n",
    "if combine == True:\n",
    "    features = np.vstack((train_features,val_features))\n",
    "    labels = np.concatenate((train_labels, val_labels))\n",
    "    \n",
    "    # Shuffle the data\n",
    "    idxs = [i for i in range(len(features))]\n",
    "    np.random.shuffle(idxs)\n",
    "    train_features = features[idxs]\n",
    "    train_labels = labels[idxs]\n",
    "    "
   ]
  },
  {
   "cell_type": "markdown",
   "metadata": {},
   "source": [
    "### Working with the Decision threshold and AUROC. \n",
    "\n",
    "Generally the decision threshold for classifying an input to belong to the positive class is if and only if the predicted class probability is >=0.5.\n",
    "\n",
    "In this section, we try to tweak the decision threshold in order to obtain the best performance. After experimenting, the decision threshold of 0.4-0.45 seems to work best by avoiding FALSE NEGATIVES. "
   ]
  },
  {
   "cell_type": "code",
   "execution_count": 3,
   "metadata": {},
   "outputs": [],
   "source": [
    "def get_predictions(model, data, decision_threshold):\n",
    "    pred_probs = model.predict_proba(data)\n",
    "    preds = (pred_probs[:,1] > decision_threshold).astype(int)\n",
    "    \n",
    "    return preds"
   ]
  },
  {
   "cell_type": "code",
   "execution_count": null,
   "metadata": {},
   "outputs": [],
   "source": [
    "decision_threshold = 0.35\n",
    "# Define model\n",
    "model = RandomForestClassifier(n_estimators=50, max_depth=4, random_state=0)\n",
    "# Fit model\n",
    "model.fit(train_features,train_labels)\n",
    "# Check score\n",
    "\n",
    "val_preds = get_predictions(model, val_features, decision_threshold)\n",
    "train_preds = get_predictions(model,train_features, decision_threshold)\n",
    "test_preds = get_predictions(model, test_features, decision_threshold)\n",
    "print(\"Training set accuracy: \", np.sum((train_preds==train_labels))/len(train_preds))\n",
    "\n",
    "tn, fp, fn, tp = confusion_matrix(val_labels,val_preds).ravel()\n",
    "tn_t, fp_t, fn_t, tp_t = confusion_matrix(test_labels,test_preds).ravel()\n",
    "conMat_RFC = confusion_matrix(val_labels,val_preds)\n",
    "conMat_RFC_test = confusion_matrix(test_labels, test_preds)\n",
    "\n",
    "print(\"Validation set accuracy :\", ((tp+tn) / (tp+tn+fp+fn) ))\n",
    "print(\"Validation set confusion matrix:\")\n",
    "print(conMat_RFC)\n",
    "print(\"Test set accuracy :\", ((tp_t+tn_t) / (tp_t+tn_t+fp_t+fn_t) ) )\n",
    "print(conMat_RFC_test)\n"
   ]
  },
  {
   "cell_type": "code",
   "execution_count": null,
   "metadata": {
    "scrolled": true
   },
   "outputs": [],
   "source": [
    "decision_threshold = 0.35\n",
    "model = MLPClassifier(hidden_layer_sizes=(32,64,128),\n",
    "                     activation='relu',\n",
    "                     solver='adam',\n",
    "                     alpha=1e-2,\n",
    "                     batch_size=8,\n",
    "                     learning_rate_init=1e-4,\n",
    "                     verbose=False,\n",
    "                     max_iter=500,\n",
    "                     random_state=0)\n",
    "model.fit(train_features,train_labels)\n",
    "\n",
    "val_preds = get_predictions(model, val_features, decision_threshold)\n",
    "train_preds = get_predictions(model,train_features, decision_threshold)\n",
    "test_preds = get_predictions(model, test_features, decision_threshold)\n",
    "print(\"train accuracy: \", np.sum((train_preds==train_labels))/len(train_preds))\n",
    "\n",
    "tn, fp, fn, tp = confusion_matrix(val_labels,val_preds).ravel()\n",
    "tn_t, fp_t, fn_t, tp_t = confusion_matrix(test_labels,test_preds).ravel()\n",
    "conMat_MLP = confusion_matrix(val_labels,val_preds)\n",
    "conMat_MLP_test = confusion_matrix(test_labels, test_preds)\n",
    "\n",
    "print(\" Val accuracy :\", ((tp+tn) / (tp+tn+fp+fn) ))\n",
    "print(confusion_matrix(val_labels,val_preds))\n",
    "print(\"Test set accuracy :\", ((tp_t+tn_t) / (tp_t+tn_t+fp_t+fn_t) ) )\n",
    "print(conMat_MLP_test)"
   ]
  },
  {
   "cell_type": "code",
   "execution_count": 16,
   "metadata": {
    "scrolled": true
   },
   "outputs": [
    {
     "name": "stdout",
     "output_type": "stream",
     "text": [
      "train accuracy:  1.0\n",
      " Val accuracy : 1.0\n",
      "[[66  0]\n",
      " [ 0 21]]\n",
      "Test set accuracy : 0.5572139303482587\n",
      "[[96  5]\n",
      " [84 16]]\n"
     ]
    }
   ],
   "source": [
    "decision_threshold = 0.40\n",
    "model = GradientBoostingClassifier(n_estimators=40, max_depth=4,random_state=0)\n",
    "model.fit(train_features,train_labels)\n",
    "\n",
    "val_preds = get_predictions(model, val_features, decision_threshold)\n",
    "train_preds = get_predictions(model,train_features, decision_threshold)\n",
    "test_preds = get_predictions(model, test_features, decision_threshold)\n",
    "print(\"train accuracy: \", np.sum((train_preds==train_labels))/len(train_preds))\n",
    "\n",
    "tn, fp, fn, tp = confusion_matrix(val_labels,val_preds).ravel()\n",
    "tn_t, fp_t, fn_t, tp_t = confusion_matrix(test_labels,test_preds).ravel()\n",
    "conMat_GBC = confusion_matrix(val_labels,val_preds)\n",
    "conMat_GBC_test = confusion_matrix(test_labels, test_preds)\n",
    "\n",
    "print(\" Val accuracy :\", ((tp+tn) / (tp+tn+fp+fn) ))\n",
    "print(confusion_matrix(val_labels,val_preds))\n",
    "print(\"Test set accuracy :\", ((tp_t+tn_t) / (tp_t+tn_t+fp_t+fn_t) ) )\n",
    "print(conMat_GBC_test)"
   ]
  },
  {
   "cell_type": "markdown",
   "metadata": {},
   "source": [
    "### Saving the model \n",
    "Use the below cell to save the model you wish to use in the future for predicting on the test set"
   ]
  },
  {
   "cell_type": "code",
   "execution_count": null,
   "metadata": {},
   "outputs": [],
   "source": [
    "# with open(\"best_model_mlp.pkl\",\"wb\") as o:\n",
    "#     pkl.dump(model,o)"
   ]
  },
  {
   "cell_type": "markdown",
   "metadata": {},
   "source": [
    "## Generate Test predictions"
   ]
  },
  {
   "cell_type": "code",
   "execution_count": null,
   "metadata": {},
   "outputs": [],
   "source": [
    "model_file = \"best_model_mlp.pkl\"\n",
    "with open(model_file,\"rb\") as inp:\n",
    "    model = pkl.load(inp)\n",
    "    \n",
    "test_file_path = \"test_data.csv\" ##### change name of test feature file here\n",
    "test_features, test_labels = get_dataset(test_file_path, mode='test', scaler=scaler)\n",
    "\n",
    "test_preds = get_predictions(model,test_features,decision_threshold=0.35)\n",
    "# tn, fp, fn, tp = confusion_matrix(val_labels,val_preds).ravel()\n",
    "# tn_t, fp_t, fn_t, tp_t = confusion_matrix(test_labels,test_preds).ravel()\n",
    "\n",
    "conMat_MLP_test = confusion_matrix(test_labels, test_preds)\n",
    "\n",
    "print(\"Test set accuracy :\", ((tp_t+tn_t) / (tp_t+tn_t+fp_t+fn_t) ) )\n",
    "print(conMat_MLP_test)\n",
    "with open(\"test_predictions.csv\",\"w\") as o:\n",
    "    for idx, pred in enumerate(preds):\n",
    "        o.write(\"{}\\n\".format(pred))"
   ]
  },
  {
   "cell_type": "code",
   "execution_count": 4,
   "metadata": {},
   "outputs": [],
   "source": [
    "def plot_confusion_matrix(cm,\n",
    "                          target_names,\n",
    "                          title='Confusion matrix',\n",
    "                          cmap=None,\n",
    "                          normalize=True):\n",
    "    \"\"\"\n",
    "    given a sklearn confusion matrix (cm), make a nice plot\n",
    "\n",
    "    Arguments\n",
    "    ---------\n",
    "    cm:           confusion matrix from sklearn.metrics.confusion_matrix\n",
    "\n",
    "    target_names: given classification classes such as [0, 1, 2]\n",
    "                  the class names, for example: ['high', 'medium', 'low']\n",
    "\n",
    "    title:        the text to display at the top of the matrix\n",
    "\n",
    "    cmap:         the gradient of the values displayed from matplotlib.pyplot.cm\n",
    "                  see http://matplotlib.org/examples/color/colormaps_reference.html\n",
    "                  plt.get_cmap('jet') or plt.cm.Blues\n",
    "\n",
    "    normalize:    If False, plot the raw numbers\n",
    "                  If True, plot the proportions\n",
    "\n",
    "    Usage\n",
    "    -----\n",
    "    plot_confusion_matrix(cm           = cm,                  # confusion matrix created by\n",
    "                                                              # sklearn.metrics.confusion_matrix\n",
    "                          normalize    = True,                # show proportions\n",
    "                          target_names = y_labels_vals,       # list of names of the classes\n",
    "                          title        = best_estimator_name) # title of graph\n",
    "\n",
    "    Citiation\n",
    "    ---------\n",
    "    http://scikit-learn.org/stable/auto_examples/model_selection/plot_confusion_matrix.html\n",
    "\n",
    "    \"\"\"\n",
    "    import itertools\n",
    "\n",
    "    accuracy = np.trace(cm) / float(np.sum(cm))\n",
    "    misclass = 1 - accuracy\n",
    "\n",
    "    if cmap is None:\n",
    "        cmap = plt.get_cmap('GnBu')\n",
    "\n",
    "    plt.figure(figsize=(4, 3))\n",
    "    plt.imshow(cm, interpolation='nearest', cmap=cmap)\n",
    "    plt.title(title)\n",
    "    plt.colorbar()\n",
    "\n",
    "    if target_names is not None:\n",
    "        tick_marks = np.arange(len(target_names))\n",
    "        plt.xticks(tick_marks, target_names, rotation=45)\n",
    "        plt.yticks(tick_marks, target_names)\n",
    "\n",
    "    if normalize:\n",
    "        cm = cm.astype('float') / cm.sum(axis=1)[:, np.newaxis]\n",
    "\n",
    "\n",
    "    thresh = cm.max() / 1.5 if normalize else cm.max() / 2\n",
    "    for i, j in itertools.product(range(cm.shape[0]), range(cm.shape[1])):\n",
    "        if normalize:\n",
    "            plt.text(j, i, \"{:0.4f}\".format(cm[i, j]),\n",
    "                     horizontalalignment=\"center\",\n",
    "                     color=\"black\" if cm[i, j] > thresh else \"black\")\n",
    "        else:\n",
    "            plt.text(j, i, \"{:,}\".format(cm[i, j]),\n",
    "                     horizontalalignment=\"center\",\n",
    "                     color=\"black\" if cm[i, j] > thresh else \"black\")\n",
    "\n",
    "\n",
    "    plt.tight_layout()\n",
    "    plt.ylabel('True label')\n",
    "    plt.xlabel('Predicted label')\n",
    "    plt.show()"
   ]
  },
  {
   "cell_type": "markdown",
   "metadata": {},
   "source": [
    "## This is for plotting the confusion matrix of any named confusion matrix defined above in a more illustrative manner."
   ]
  },
  {
   "cell_type": "code",
   "execution_count": 17,
   "metadata": {},
   "outputs": [
    {
     "data": {
      "image/png": "[encoded data removed]",
      "text/plain": [
       "<Figure size 288x216 with 2 Axes>"
      ]
     },
     "metadata": {
      "needs_background": "light"
     },
     "output_type": "display_data"
    },
    {
     "data": {
      "image/png": "[encoded data removed]",
      "text/plain": [
       "<Figure size 288x216 with 2 Axes>"
      ]
     },
     "metadata": {
      "needs_background": "light"
     },
     "output_type": "display_data"
    }
   ],
   "source": [
    "plot_confusion_matrix(conMat_GBC, \n",
    "                      normalize    = False,\n",
    "                      target_names = ['Non-Prog', 'Prog'],\n",
    "                      title        = \"GBC on Validation Set\")\n",
    "plot_confusion_matrix(conMat_GBC_test, \n",
    "                      normalize    = False,\n",
    "                      target_names = ['Non-Prog', 'Prog'],\n",
    "                      title        = \"GBC on Test Set\")"
   ]
  },
  {
   "cell_type": "markdown",
   "metadata": {},
   "source": [
    "## This is the SVC that was not reported in the final report as the accuracy was well below 50%, somewhere around 45 to 48%."
   ]
  },
  {
   "cell_type": "code",
   "execution_count": null,
   "metadata": {},
   "outputs": [],
   "source": [
    "decision_threshold = 0.5\n",
    "model = SVC(kernel='rbf', degree=3,random_state=0,probability=True)\n",
    "model.fit(train_features,train_labels)\n",
    "\n",
    "val_preds = get_predictions(model, val_features, decision_threshold)\n",
    "train_preds = get_predictions(model,train_features, decision_threshold)\n",
    "\n",
    "print(\"train accuracy: \", np.sum((train_preds==train_labels))/len(train_preds))\n",
    "\n",
    "tn, fp, fn, tp = confusion_matrix(val_labels,val_preds).ravel()\n",
    "\n",
    "print(\" Val accuracy :\", ((tp+tn) / (tp+tn+fp+fn) ))\n",
    "print(confusion_matrix(val_labels,val_preds))\n",
    "\n",
    "test_preds = get_predictions(model,test_features,decision_threshold=0.4)\n",
    "print(\"test accuracy: \", np.sum((test_preds==test_labels))/len(test_preds))"
   ]
  }
 ],
 "metadata": {
  "kernelspec": {
   "display_name": "Python 3",
   "language": "python",
   "name": "python3"
  },
  "language_info": {
   "codemirror_mode": {
    "name": "ipython",
    "version": 3
   },
   "file_extension": ".py",
   "mimetype": "text/x-python",
   "name": "python",
   "nbconvert_exporter": "python",
   "pygments_lexer": "ipython3",
   "version": "3.7.0"
  }
 },
 "nbformat": 4,
 "nbformat_minor": 2
}
